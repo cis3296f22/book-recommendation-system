{
 "cells": [
  {
   "cell_type": "code",
   "execution_count": 1,
   "id": "cba364f0-a3d0-4ee8-8b17-604378cf0a76",
   "metadata": {},
   "outputs": [],
   "source": [
    "liked_books = ['12961964', '4671', '18902634', '15769088', '28862387']    #test array"
   ]
  },
  {
   "cell_type": "code",
   "execution_count": 2,
   "id": "a7e0d078-4b1a-4899-b5c0-e142f0bbcb61",
   "metadata": {},
   "outputs": [],
   "source": [
    "# This is user-based CF. Basically, we find a list of users who have liked similar books to the current user. Then we can make recommendations based on what other books these users liked.\n",
    "\n",
    "book_mapping = {}\n",
    "\n",
    "with open(\"book_id_map.csv\", \"r\") as f:\n",
    "    while True:\n",
    "        line = f.readline()\n",
    "        if not line:\n",
    "            break\n",
    "        csv_id, book_id = line.strip().split(\",\")\n",
    "        book_mapping[csv_id] = book_id"
   ]
  },
  {
   "cell_type": "code",
   "execution_count": null,
   "id": "961308d6-abb8-47ea-ab51-54101c5462e0",
   "metadata": {},
   "outputs": [],
   "source": [
    "overlap_users = set()\n",
    "frequency = {}\n",
    "x = 0\n",
    "number_users = 0\n",
    "\n",
    "with open(\"goodreads_interactions.csv\", \"r\") as f:\n",
    "    while True:\n",
    "        line = f.readline()\n",
    "        if not line:\n",
    "            break\n",
    "        \n",
    "        user_id, csv_id, blank1, rating, blank2 = line.split(\",\")\n",
    "        \n",
    "        if user_id in overlap_users:\n",
    "            continue    #already in list, don't need to repeat users\n",
    "            \n",
    "        if(frequency.get(user_id) == None):  #adding user id as a key to the hashmap\n",
    "            frequency[user_id] = 0;\n",
    "        \n",
    "       \n",
    "        try:\n",
    "            rating = int(rating)\n",
    "        except ValueError:\n",
    "            continue\n",
    "\n",
    "        book_id = book_mapping[csv_id]\n",
    "\n",
    "        if book_id in liked_books and rating >= 4:\n",
    "            frequency[user_id] += 1\n",
    "                \n",
    "            if(frequency[user_id] >= 2):    #if we have at least 2 books in common with this user, add them to set\n",
    "                overlap_users.add(user_id)\n",
    "                number_users+=1"
   ]
  },
  {
   "cell_type": "code",
   "execution_count": 4,
   "id": "b9be44c4-d3ca-41a4-a8b1-4792cd2a0d10",
   "metadata": {},
   "outputs": [
    {
     "name": "stdout",
     "output_type": "stream",
     "text": [
      "attempting to print overlap users\n",
      "{'253523', '325569', '84331', '167840', '57022', '161861', '332689', '807326', '367334', '288454', '398567', '390650', '188805', '212497', '428785', '88547', '255684', '198159', '314748', '439285', '13640', '107653', '312338', '296171', '14935', '366878', '861896', '41879', '343355', '125163', '122166', '186459', '224279', '288775', '194855', '424730', '239670', '442189', '91731', '406277', '207231', '275969', '64844', '286600', '369139'}\n",
      "printed overlap\n",
      "number of similar users: 45\n"
     ]
    }
   ],
   "source": [
    "print(\"attempting to print overlap users\")\n",
    "print(overlap_users)\n",
    "print(\"printed overlap\")\n",
    "print(\"number of similar users: %d\" %number_users)"
   ]
  }
 ],
 "metadata": {
  "kernelspec": {
   "display_name": "Python 3 (ipykernel)",
   "language": "python",
   "name": "python3"
  },
  "language_info": {
   "codemirror_mode": {
    "name": "ipython",
    "version": 3
   },
   "file_extension": ".py",
   "mimetype": "text/x-python",
   "name": "python",
   "nbconvert_exporter": "python",
   "pygments_lexer": "ipython3",
   "version": "3.9.13"
  }
 },
 "nbformat": 4,
 "nbformat_minor": 5
}
