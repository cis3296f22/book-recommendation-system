{
 "cells": [
  {
   "cell_type": "code",
   "execution_count": 4,
   "id": "adae20b3",
   "metadata": {},
   "outputs": [],
   "source": [
    "# Create search engine!\n",
    "# Goodreads json file is too large to open entirely using a pandas Dataframe. Instead, we first read it line by line:\n",
    "import csv\n",
    "import pandas as pd"
   ]
  },
  {
   "cell_type": "code",
   "execution_count": 5,
   "id": "cccd614c-85f8-4900-aac0-224a3aa04b15",
   "metadata": {},
   "outputs": [],
   "source": [
    "book_titles = pd.read_csv('book_fields.csv')"
   ]
  },
  {
   "cell_type": "code",
   "execution_count": 6,
   "id": "d4a73d06-a930-41fb-925d-b95939aff711",
   "metadata": {},
   "outputs": [],
   "source": [
    "def modify_book_titles(book_titles):\n",
    "    book_titles[\"ratings\"] = pd.to_numeric(book_titles[\"ratings\"])\n",
    "    book_titles[\"modified_title\"] = book_titles[\"title\"].str.replace(\"[^a-zA-Z0-9 ]\", \"\", regex=True) #this is a regular expression that modifies titles so that any that include characters other than \n",
    "    book_titles[\"modified_title\"] = book_titles[\"modified_title\"].str.lower()                                                                                     #those in the brackets are removed.\n",
    "    book_titles[\"modified_title\"] = book_titles[\"modified_title\"].str.replace(\"\\s+\", \" \", regex=True) # replace multiple spaces with one space\n",
    "    book_titles = book_titles[book_titles[\"modified_title\"].str.len() > 0] # removing blank titles\n",
    "    return book_titles"
   ]
  },
  {
   "cell_type": "code",
   "execution_count": 7,
   "id": "87e6d286-6213-493f-9047-97d3c622bcfe",
   "metadata": {},
   "outputs": [],
   "source": [
    "book_titles = modify_book_titles(book_titles)"
   ]
  },
  {
   "cell_type": "code",
   "execution_count": 8,
   "id": "5e7afcfc-7b48-4211-ad73-bcb5393bd6c0",
   "metadata": {},
   "outputs": [],
   "source": [
    "def clickable(val):\n",
    "    return '<a target=\"_blank\" href={}\"> Goodreads </a>'.format(val)\n",
    "    \n",
    "# ^^ This function would allow you to click on the link to see it in Goodreads. Feel like we might not want our app to redirect to another book site\n",
    "\n",
    "\n",
    "# To create the search engine, we're using TF-IDF (term frequency - inverse document frequency). It uses both of these to assign keyword scores and estimate the importance/relevance of each word \n",
    "# put into the search engine.\n",
    "\n",
    "# term frequency measures the frequency of each unique word.\n",
    "# inverse document frequency minimizes the importance of common words (like the, and, etc.)\n",
    "\n",
    "import numpy as np\n",
    "import re\n",
    "from sklearn.feature_extraction.text import TfidfVectorizer\n",
    "from sklearn.metrics.pairwise import cosine_similarity\n",
    "vectorizer = TfidfVectorizer()\n",
    "tfidf = vectorizer.fit_transform(book_titles[\"modified_title\"])\n",
    "\n",
    "# show cover image in search\n",
    "def cover(val):\n",
    "    return '<img src=\"{}\" width=60></image>'.format(val)\n",
    "\n",
    "# search for a specific book (by title)\n",
    "def search(query, vectorizer):\n",
    "    processed = re.sub(\"[^a-zA-Z0-9 ]\", \"\", query.lower())\n",
    "    query_vec = vectorizer.transform([processed])\n",
    "    similarity = cosine_similarity(query_vec, tfidf).flatten()\n",
    "    indices = np.argpartition(similarity, -10)[-10:] #find indices of 10 largest similarity values\n",
    "    results = book_titles.iloc[indices]\n",
    "    results = results.sort_values(\"ratings\", ascending=False)\n",
    "    return results.head(5)#.style.format({'cover':cover, 'url': clickable})"
   ]
  },
  {
   "cell_type": "code",
   "execution_count": 9,
   "id": "5d353a93-ff3e-4e19-a56c-7a12d9321738",
   "metadata": {},
   "outputs": [],
   "source": [
    "liked_books = []\n",
    "book_ids = []\n",
    "liked_title = []\n",
    "ratings = []\n",
    "def user_search(liked_books, book_ids, liked_title):\n",
    "    book = input(\"Please enter a book to search. Enter 'exit' when finished.\")\n",
    "    if book == 'exit':\n",
    "        return False\n",
    "    results = search(book, vectorizer)\n",
    "    display(results.style.format({'cover':cover, 'url': clickable}))\n",
    "   # results['book_id']\n",
    "    validate = input(\"Which result is the book you want to add to your list? Enter a number between 1 and 5. Enter N if it is not on the list. \\n\")\n",
    "    if validate == 'N':\n",
    "        print(\"Try again.\")\n",
    "    else:\n",
    "        rating = input(\"What rating would you give this book between 1 and 5?\")\n",
    "        rate = int(rating)\n",
    "        validate = int(validate)\n",
    "        ratings.append(rate)\n",
    "        book_ids.append(results.iloc[validate-1, 0])\n",
    "        liked_books.append(results.iloc[validate-1, 0])\n",
    "        liked_title.append(results.iloc[validate-1, 1])\n",
    "    return True, liked_books, liked_title, ratings\n",
    "\n",
    "def search_loop():\n",
    "    uid = input(\"What is your user id?\")\n",
    "    user_id = int(uid)\n",
    "    userin = input(\"\\n\\n\\nWould you like to search for a book? Enter Y/N.\")\n",
    "    if userin != 'N' and userin != 'Y' and userin != 'n' and userin != 'y':\n",
    "        print(\"Please enter Y or N.\")\n",
    "        userin = input(\"\\n\\n\\nWould you like to search for a book? Enter Y/N.\")\n",
    "    while True:\n",
    "        if userin == 'N':\n",
    "            print(\"Goodbye!\")\n",
    "            break\n",
    "        if not user_search(liked_books, book_ids, liked_title):\n",
    "            break\n",
    "        userin2 = input(\"Enter id # of the book you want: \")\n",
    "        liked_books.insert(0, userin2)\n",
    "        print(liked_books)\n",
    "        userin = input(\"Would you like to search for another book? Enter Y/N.\")\n",
    "    return user_id\n",
    "        \n"
   ]
  },
  {
   "cell_type": "code",
   "execution_count": 12,
   "id": "ba5bd772-341f-4bba-954f-e2db53b92d02",
   "metadata": {},
   "outputs": [
    {
     "name": "stdin",
     "output_type": "stream",
     "text": [
      "What is your user id? -1\n",
      "\n",
      "\n",
      "\n",
      "Would you like to search for a book? Enter Y/N. N\n"
     ]
    },
    {
     "name": "stdout",
     "output_type": "stream",
     "text": [
      "Goodbye!\n"
     ]
    }
   ],
   "source": [
    "user_id = search_loop()\n",
    "liked_book = pd.DataFrame(columns= ['book_id', 'title'])\n",
    "ids = []\n",
    "for i in range(0, len(book_ids)):\n",
    "    ids.append(user_id)\n",
    "#search_loop()\n",
    "liked_book['user_id'] = ids\n",
    "liked_book['book_id'] = book_ids\n",
    "liked_book['title'] = liked_title\n",
    "liked_book['rating'] = ratings"
   ]
  },
  {
   "cell_type": "code",
   "execution_count": null,
   "id": "83fae190-ccb2-4595-b457-6986ea60ed8f",
   "metadata": {},
   "outputs": [],
   "source": [
    "display(liked_books)\n",
    "def return_liked(liked_books):\n",
    "    return liked_books"
   ]
  },
  {
   "cell_type": "code",
   "execution_count": 20,
   "id": "4cd27e1c-8148-4ced-9bea-3119eaf020d1",
   "metadata": {},
   "outputs": [],
   "source": [
    "liked_book.to_csv(\"liked_books.csv\")"
   ]
  }
 ],
 "metadata": {
  "kernelspec": {
   "display_name": "Python 3 (ipykernel)",
   "language": "python",
   "name": "python3"
  },
  "language_info": {
   "codemirror_mode": {
    "name": "ipython",
    "version": 3
   },
   "file_extension": ".py",
   "mimetype": "text/x-python",
   "name": "python",
   "nbconvert_exporter": "python",
   "pygments_lexer": "ipython3",
   "version": "3.9.7"
  }
 },
 "nbformat": 4,
 "nbformat_minor": 5
}
