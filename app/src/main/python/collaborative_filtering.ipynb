{
 "cells": [
  {
   "cell_type": "code",
   "execution_count": 1,
   "id": "3bd4f472-6ec9-4cf0-8d2d-0e978728d2b4",
   "metadata": {},
   "outputs": [],
   "source": [
    "import pandas as pd\n",
    "\n",
    "my_books = pd.read_csv(\"liked_books.csv\", index_col=0)"
   ]
  },
  {
   "cell_type": "code",
   "execution_count": 2,
   "id": "c3076221-25f6-42e9-a1f5-fb0334e5a9ea",
   "metadata": {},
   "outputs": [
    {
     "data": {
      "text/html": [
       "<div>\n",
       "<style scoped>\n",
       "    .dataframe tbody tr th:only-of-type {\n",
       "        vertical-align: middle;\n",
       "    }\n",
       "\n",
       "    .dataframe tbody tr th {\n",
       "        vertical-align: top;\n",
       "    }\n",
       "\n",
       "    .dataframe thead th {\n",
       "        text-align: right;\n",
       "    }\n",
       "</style>\n",
       "<table border=\"1\" class=\"dataframe\">\n",
       "  <thead>\n",
       "    <tr style=\"text-align: right;\">\n",
       "      <th></th>\n",
       "      <th>book_id</th>\n",
       "      <th>title</th>\n",
       "      <th>user_id</th>\n",
       "      <th>rating</th>\n",
       "    </tr>\n",
       "  </thead>\n",
       "  <tbody>\n",
       "    <tr>\n",
       "      <th>0</th>\n",
       "      <td>12961964</td>\n",
       "      <td>The Handmaid's Tale</td>\n",
       "      <td>-1</td>\n",
       "      <td>5</td>\n",
       "    </tr>\n",
       "    <tr>\n",
       "      <th>1</th>\n",
       "      <td>15769088</td>\n",
       "      <td>Pride and Prejudice</td>\n",
       "      <td>-1</td>\n",
       "      <td>5</td>\n",
       "    </tr>\n",
       "    <tr>\n",
       "      <th>2</th>\n",
       "      <td>18887980</td>\n",
       "      <td>The Secret History</td>\n",
       "      <td>-1</td>\n",
       "      <td>5</td>\n",
       "    </tr>\n",
       "    <tr>\n",
       "      <th>3</th>\n",
       "      <td>18143977</td>\n",
       "      <td>All the Light We Cannot See</td>\n",
       "      <td>-1</td>\n",
       "      <td>5</td>\n",
       "    </tr>\n",
       "    <tr>\n",
       "      <th>4</th>\n",
       "      <td>18902634</td>\n",
       "      <td>The Goldfinch</td>\n",
       "      <td>-1</td>\n",
       "      <td>5</td>\n",
       "    </tr>\n",
       "    <tr>\n",
       "      <th>5</th>\n",
       "      <td>2865</td>\n",
       "      <td>Girl with a Pearl Earring</td>\n",
       "      <td>-1</td>\n",
       "      <td>5</td>\n",
       "    </tr>\n",
       "    <tr>\n",
       "      <th>6</th>\n",
       "      <td>6457081</td>\n",
       "      <td>Remarkable Creatures</td>\n",
       "      <td>-1</td>\n",
       "      <td>5</td>\n",
       "    </tr>\n",
       "    <tr>\n",
       "      <th>7</th>\n",
       "      <td>29983711</td>\n",
       "      <td>Pachinko</td>\n",
       "      <td>-1</td>\n",
       "      <td>5</td>\n",
       "    </tr>\n",
       "    <tr>\n",
       "      <th>8</th>\n",
       "      <td>19288043</td>\n",
       "      <td>Gone Girl</td>\n",
       "      <td>-1</td>\n",
       "      <td>5</td>\n",
       "    </tr>\n",
       "  </tbody>\n",
       "</table>\n",
       "</div>"
      ],
      "text/plain": [
       "    book_id                        title  user_id  rating\n",
       "0  12961964          The Handmaid's Tale       -1       5\n",
       "1  15769088          Pride and Prejudice       -1       5\n",
       "2  18887980           The Secret History       -1       5\n",
       "3  18143977  All the Light We Cannot See       -1       5\n",
       "4  18902634                The Goldfinch       -1       5\n",
       "5      2865    Girl with a Pearl Earring       -1       5\n",
       "6   6457081         Remarkable Creatures       -1       5\n",
       "7  29983711                     Pachinko       -1       5\n",
       "8  19288043                    Gone Girl       -1       5"
      ]
     },
     "execution_count": 2,
     "metadata": {},
     "output_type": "execute_result"
    }
   ],
   "source": [
    "my_books"
   ]
  },
  {
   "cell_type": "code",
   "execution_count": 3,
   "id": "8877f578-43f3-48a8-bef7-fa5ed1da62df",
   "metadata": {},
   "outputs": [],
   "source": [
    "my_books[\"book_id\"] = my_books[\"book_id\"].astype(str)"
   ]
  },
  {
   "cell_type": "code",
   "execution_count": 4,
   "id": "46b92631-27f3-4bac-a88f-202f358e284e",
   "metadata": {},
   "outputs": [],
   "source": [
    "csv_book_mapping = {}\n",
    "with open(\"book_id_map.csv\", \"r\") as f:\n",
    "    while True:\n",
    "        line = f.readline()\n",
    "        if not line:\n",
    "            break\n",
    "        csv_id, book_id = line.strip().split(\",\")\n",
    "        csv_book_mapping[csv_id] = book_id"
   ]
  },
  {
   "cell_type": "code",
   "execution_count": 5,
   "id": "c6fe966f-4705-4409-999f-4213401bd92e",
   "metadata": {},
   "outputs": [],
   "source": [
    "book_set = set(my_books[\"book_id\"])"
   ]
  },
  {
   "cell_type": "code",
   "execution_count": 7,
   "id": "71a0b907-2196-40e8-a890-2f08a83617c7",
   "metadata": {},
   "outputs": [],
   "source": [
    "overlap_users = {}\n",
    "\n",
    "# overlap_users contains a list of users who liked the books\n",
    "with open(\"goodreads_interactions.csv\", \"r\") as f:\n",
    "    while True:\n",
    "        line = f.readline()\n",
    "        if not line:\n",
    "            break\n",
    "        user_id, csv_id, _, rating, _ = line.strip().split(\",\")\n",
    "        \n",
    "        book_id = csv_book_mapping.get(csv_id)\n",
    "        if book_id in book_set:\n",
    "            if user_id not in overlap_users:\n",
    "                overlap_users[user_id] = 1\n",
    "            else:\n",
    "                overlap_users[user_id] +=1"
   ]
  },
  {
   "cell_type": "code",
   "execution_count": 9,
   "id": "76d80553-4c3c-45ec-ac36-b7b1d5a4818f",
   "metadata": {},
   "outputs": [],
   "source": [
    "filtered_users = set([i for i in overlap_users if overlap_users[i] > my_books.shape[0]/5])"
   ]
  },
  {
   "cell_type": "code",
   "execution_count": 11,
   "id": "bc6dd3dd-c140-4a60-8bff-1d7ec366dab7",
   "metadata": {},
   "outputs": [],
   "source": [
    "interactions = []\n",
    "with open(\"goodreads_interactions.csv\", \"r\") as f:\n",
    "    while True:\n",
    "        line = f.readline()\n",
    "        if not line:\n",
    "            break\n",
    "        user_id, csv_id, _, rating, _ = line.strip().split(\",\")\n",
    "        if user_id in filtered_users:\n",
    "            book_id = csv_book_mapping[csv_id]\n",
    "            interactions.append([user_id, book_id, rating])"
   ]
  },
  {
   "cell_type": "code",
   "execution_count": 12,
   "id": "368a04d6-cd77-4c7a-8f05-d53d148ecb2e",
   "metadata": {},
   "outputs": [],
   "source": [
    "# creating sparse matrix\n",
    "interaction = pd.DataFrame(interactions, columns=[\"user_id\", \"book_id\", \"rating\"])\n",
    "interaction = pd.concat([my_books[[\"user_id\", \"book_id\", \"rating\"]], interaction])"
   ]
  },
  {
   "cell_type": "code",
   "execution_count": 13,
   "id": "beda9200-e345-47a9-82e9-26b7995833b5",
   "metadata": {},
   "outputs": [
    {
     "data": {
      "text/html": [
       "<div>\n",
       "<style scoped>\n",
       "    .dataframe tbody tr th:only-of-type {\n",
       "        vertical-align: middle;\n",
       "    }\n",
       "\n",
       "    .dataframe tbody tr th {\n",
       "        vertical-align: top;\n",
       "    }\n",
       "\n",
       "    .dataframe thead th {\n",
       "        text-align: right;\n",
       "    }\n",
       "</style>\n",
       "<table border=\"1\" class=\"dataframe\">\n",
       "  <thead>\n",
       "    <tr style=\"text-align: right;\">\n",
       "      <th></th>\n",
       "      <th>user_id</th>\n",
       "      <th>book_id</th>\n",
       "      <th>rating</th>\n",
       "    </tr>\n",
       "  </thead>\n",
       "  <tbody>\n",
       "    <tr>\n",
       "      <th>0</th>\n",
       "      <td>-1</td>\n",
       "      <td>12961964</td>\n",
       "      <td>5</td>\n",
       "    </tr>\n",
       "    <tr>\n",
       "      <th>1</th>\n",
       "      <td>-1</td>\n",
       "      <td>15769088</td>\n",
       "      <td>5</td>\n",
       "    </tr>\n",
       "    <tr>\n",
       "      <th>2</th>\n",
       "      <td>-1</td>\n",
       "      <td>18887980</td>\n",
       "      <td>5</td>\n",
       "    </tr>\n",
       "    <tr>\n",
       "      <th>3</th>\n",
       "      <td>-1</td>\n",
       "      <td>18143977</td>\n",
       "      <td>5</td>\n",
       "    </tr>\n",
       "    <tr>\n",
       "      <th>4</th>\n",
       "      <td>-1</td>\n",
       "      <td>18902634</td>\n",
       "      <td>5</td>\n",
       "    </tr>\n",
       "    <tr>\n",
       "      <th>...</th>\n",
       "      <td>...</td>\n",
       "      <td>...</td>\n",
       "      <td>...</td>\n",
       "    </tr>\n",
       "    <tr>\n",
       "      <th>33818388</th>\n",
       "      <td>875967</td>\n",
       "      <td>30832670</td>\n",
       "      <td>5</td>\n",
       "    </tr>\n",
       "    <tr>\n",
       "      <th>33818389</th>\n",
       "      <td>875967</td>\n",
       "      <td>28443427</td>\n",
       "      <td>5</td>\n",
       "    </tr>\n",
       "    <tr>\n",
       "      <th>33818390</th>\n",
       "      <td>875967</td>\n",
       "      <td>11920126</td>\n",
       "      <td>5</td>\n",
       "    </tr>\n",
       "    <tr>\n",
       "      <th>33818391</th>\n",
       "      <td>875967</td>\n",
       "      <td>25596982</td>\n",
       "      <td>5</td>\n",
       "    </tr>\n",
       "    <tr>\n",
       "      <th>33818392</th>\n",
       "      <td>875967</td>\n",
       "      <td>34196530</td>\n",
       "      <td>5</td>\n",
       "    </tr>\n",
       "  </tbody>\n",
       "</table>\n",
       "<p>33818402 rows × 3 columns</p>\n",
       "</div>"
      ],
      "text/plain": [
       "         user_id   book_id rating\n",
       "0             -1  12961964      5\n",
       "1             -1  15769088      5\n",
       "2             -1  18887980      5\n",
       "3             -1  18143977      5\n",
       "4             -1  18902634      5\n",
       "...          ...       ...    ...\n",
       "33818388  875967  30832670      5\n",
       "33818389  875967  28443427      5\n",
       "33818390  875967  11920126      5\n",
       "33818391  875967  25596982      5\n",
       "33818392  875967  34196530      5\n",
       "\n",
       "[33818402 rows x 3 columns]"
      ]
     },
     "execution_count": 13,
     "metadata": {},
     "output_type": "execute_result"
    }
   ],
   "source": [
    "interaction"
   ]
  },
  {
   "cell_type": "code",
   "execution_count": 14,
   "id": "959bed48-d976-4607-89db-7cbefcc5289d",
   "metadata": {},
   "outputs": [],
   "source": [
    "interaction[\"book_id\"] = interaction[\"book_id\"].astype(str)\n",
    "interaction[\"user_id\"] = interaction[\"user_id\"].astype(str)\n",
    "interaction[\"rating\"] = pd.to_numeric(interaction[\"rating\"])"
   ]
  },
  {
   "cell_type": "code",
   "execution_count": 15,
   "id": "ac643058-a659-4f95-94b9-5ebe90b6077e",
   "metadata": {},
   "outputs": [
    {
     "data": {
      "text/plain": [
       "array(['-1', '3', '22', ..., '875556', '875914', '875967'], dtype=object)"
      ]
     },
     "execution_count": 15,
     "metadata": {},
     "output_type": "execute_result"
    }
   ],
   "source": [
    "interaction[\"user_id\"].unique()"
   ]
  },
  {
   "cell_type": "code",
   "execution_count": 16,
   "id": "b758dcd0-2c70-4022-aaa3-af2add1b5cf9",
   "metadata": {},
   "outputs": [],
   "source": [
    "interaction[\"user_index\"] = interaction[\"user_id\"].astype(\"category\").cat.codes\n",
    "# do the same thing for book_index"
   ]
  },
  {
   "cell_type": "code",
   "execution_count": 20,
   "id": "f646f2e0-c0a2-414e-9dd4-1f45c90b31ae",
   "metadata": {},
   "outputs": [],
   "source": [
    "# use scipy.sparse import coo_matrix\n",
    "# initialize matrix (can look up documentation) with interaction[rating], [user_index], [book_index]\n",
    "# convert to csr probably"
   ]
  },
  {
   "cell_type": "code",
   "execution_count": 21,
   "id": "543a5495-be76-4937-acec-a7771587ad48",
   "metadata": {},
   "outputs": [],
   "source": [
    "# find similar users using cosine similarity (in sklearn)\n",
    "# select most similar using argpartition (?)\n"
   ]
  },
  {
   "cell_type": "code",
   "execution_count": 22,
   "id": "1bb2b25c-3222-4eb7-84c0-5d19dd1e383f",
   "metadata": {},
   "outputs": [],
   "source": [
    "# create recommendations & rank them..."
   ]
  },
  {
   "cell_type": "code",
   "execution_count": null,
   "id": "470b3a53-6417-4049-be56-f32f3738ede6",
   "metadata": {},
   "outputs": [],
   "source": []
  }
 ],
 "metadata": {
  "kernelspec": {
   "display_name": "Python 3 (ipykernel)",
   "language": "python",
   "name": "python3"
  },
  "language_info": {
   "codemirror_mode": {
    "name": "ipython",
    "version": 3
   },
   "file_extension": ".py",
   "mimetype": "text/x-python",
   "name": "python",
   "nbconvert_exporter": "python",
   "pygments_lexer": "ipython3",
   "version": "3.9.7"
  }
 },
 "nbformat": 4,
 "nbformat_minor": 5
}
