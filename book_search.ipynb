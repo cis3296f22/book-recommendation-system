{
 "cells": [
  {
   "cell_type": "code",
   "execution_count": 1,
   "id": "adae20b3",
   "metadata": {},
   "outputs": [],
   "source": [
    "# Create search engine!\n",
    "# Goodreads json file is too large to open entirely using a pandas Dataframe. Instead, we first read it line by line:\n",
    "import gzip\n",
    "with gzip.open(\"goodreads_books.json.gz\", 'r') as f:\n",
    "    line = f.readline()"
   ]
  },
  {
   "cell_type": "code",
   "execution_count": 2,
   "id": "61000b89-1189-41b4-b524-d615246d398d",
   "metadata": {},
   "outputs": [
    {
     "data": {
      "text/plain": [
       "{'isbn': '0312853122',\n",
       " 'text_reviews_count': '1',\n",
       " 'series': [],\n",
       " 'country_code': 'US',\n",
       " 'language_code': '',\n",
       " 'popular_shelves': [{'count': '3', 'name': 'to-read'},\n",
       "  {'count': '1', 'name': 'p'},\n",
       "  {'count': '1', 'name': 'collection'},\n",
       "  {'count': '1', 'name': 'w-c-fields'},\n",
       "  {'count': '1', 'name': 'biography'}],\n",
       " 'asin': '',\n",
       " 'is_ebook': 'false',\n",
       " 'average_rating': '4.00',\n",
       " 'kindle_asin': '',\n",
       " 'similar_books': [],\n",
       " 'description': '',\n",
       " 'format': 'Paperback',\n",
       " 'link': 'https://www.goodreads.com/book/show/5333265-w-c-fields',\n",
       " 'authors': [{'author_id': '604031', 'role': ''}],\n",
       " 'publisher': \"St. Martin's Press\",\n",
       " 'num_pages': '256',\n",
       " 'publication_day': '1',\n",
       " 'isbn13': '9780312853129',\n",
       " 'publication_month': '9',\n",
       " 'edition_information': '',\n",
       " 'publication_year': '1984',\n",
       " 'url': 'https://www.goodreads.com/book/show/5333265-w-c-fields',\n",
       " 'image_url': 'https://images.gr-assets.com/books/1310220028m/5333265.jpg',\n",
       " 'book_id': '5333265',\n",
       " 'ratings_count': '3',\n",
       " 'work_id': '5400751',\n",
       " 'title': 'W.C. Fields: A Life on Film',\n",
       " 'title_without_series': 'W.C. Fields: A Life on Film'}"
      ]
     },
     "execution_count": 2,
     "metadata": {},
     "output_type": "execute_result"
    }
   ],
   "source": [
    "import json\n",
    "\n",
    "json.loads(line)"
   ]
  },
  {
   "cell_type": "code",
   "execution_count": 3,
   "id": "03ab126f-f8bb-4afe-ae06-686e33c5d043",
   "metadata": {},
   "outputs": [],
   "source": [
    "# Get most important fields from the goodreads json file. These fields include the book ID, title, number of ratings, url, and cover (url).\n",
    "def parse_books(line):\n",
    "    book = json.loads(line)\n",
    "    return {\n",
    "        \"book_id\": book[\"book_id\"],\n",
    "        \"title\": book[\"title_without_series\"],\n",
    "        \"ratings\": book[\"ratings_count\"],\n",
    "        \"url\": book[\"url\"],\n",
    "        \"cover\": book[\"image_url\"]\n",
    "    }"
   ]
  },
  {
   "cell_type": "code",
   "execution_count": 4,
   "id": "df0efce7-7f0e-43c0-8fc6-c40c15fc5425",
   "metadata": {},
   "outputs": [],
   "source": [
    "# Narrow down search by only including books for which there are at least 20 ratings. (Books with less than 20 ratings are obviously not very popular and thus are not necessary inclusions in our search engine).\n",
    "# Append all of the books that match these requirements into a list called title.\n",
    "titles = []\n",
    "with gzip.open(\"goodreads_books.json.gz\", 'r') as f:\n",
    "    while True:\n",
    "        line = f.readline()\n",
    "        if not line:\n",
    "            break\n",
    "        fields = parse_books(line)\n",
    "        \n",
    "        try:\n",
    "            ratings = int(fields[\"ratings\"])\n",
    "        except ValueError:\n",
    "            continue\n",
    "        if ratings > 20:\n",
    "            titles.append(fields)"
   ]
  },
  {
   "cell_type": "code",
   "execution_count": 5,
   "id": "23d71703-47d7-4718-8b9a-57a102b59263",
   "metadata": {},
   "outputs": [],
   "source": [
    "# NOW we can use a pandas DataFrame\n",
    "import pandas as pd\n",
    "\n",
    "book_titles = pd.DataFrame.from_dict(titles)"
   ]
  },
  {
   "cell_type": "code",
   "execution_count": 6,
   "id": "d4a73d06-a930-41fb-925d-b95939aff711",
   "metadata": {},
   "outputs": [],
   "source": [
    "book_titles[\"ratings\"] = pd.to_numeric(book_titles[\"ratings\"])\n",
    "\n",
    "book_titles[\"modified_title\"] = book_titles[\"title\"].str.replace(\"[^a-zA-Z0-9 ]\", \"\", regex=True) #this is a regular expression that modifies titles so that any that include characters other than \n",
    "                                                                                                #those in the brackets are removed."
   ]
  },
  {
   "cell_type": "code",
   "execution_count": 7,
   "id": "87e6d286-6213-493f-9047-97d3c622bcfe",
   "metadata": {},
   "outputs": [],
   "source": [
    "book_titles[\"modified_title\"] = book_titles[\"modified_title\"].str.lower()"
   ]
  },
  {
   "cell_type": "code",
   "execution_count": 8,
   "id": "9282c1e7-765c-45f2-8548-c7d06b78434f",
   "metadata": {},
   "outputs": [],
   "source": [
    "book_titles[\"modified_title\"] = book_titles[\"modified_title\"].str.replace(\"\\s+\", \" \", regex=True) # replace multiple spaces with one space"
   ]
  },
  {
   "cell_type": "code",
   "execution_count": 9,
   "id": "dc8954be-5022-4119-a6e4-9fdaccdc8735",
   "metadata": {},
   "outputs": [],
   "source": [
    "book_titles = book_titles[book_titles[\"modified_title\"].str.len() > 0] # removing blank titles"
   ]
  },
  {
   "cell_type": "code",
   "execution_count": 10,
   "id": "a85ac22d-7579-476d-b26c-eac07d02f1ca",
   "metadata": {},
   "outputs": [],
   "source": [
    "book_titles.to_json(\"book_titles.json\")"
   ]
  },
  {
   "cell_type": "code",
   "execution_count": 11,
   "id": "4b99954f-ec90-4d1e-aec3-d33123337288",
   "metadata": {},
   "outputs": [],
   "source": [
    "#book_titles"
   ]
  },
  {
   "cell_type": "code",
   "execution_count": 12,
   "id": "5e7afcfc-7b48-4211-ad73-bcb5393bd6c0",
   "metadata": {},
   "outputs": [],
   "source": [
    "#def clickable(val):\n",
    "   # return '<a target=\"_blank\" href={}\"> Goodreads </a>'.format(val)\n",
    "    \n",
    "# ^^ This function would allow you to click on the link to see it in Goodreads. Feel like we might not want our app to redirect to another book site, so I commented it out but left it in case\n",
    "\n",
    "\n",
    "# To create the search engine, we're using TF-IDF (term frequency - inverse document frequency). It uses both of these to assign keyword scores and estimate the importance/relevance of each word \n",
    "# put into the search engine.\n",
    "\n",
    "# term frequency measures the frequency of each unique word.\n",
    "# inverse document frequency minimizes the importance of common words (like the, and, etc.)\n",
    "\n",
    "#from sklearn.feature_extraction.text import TfidfVectorizer\n",
    "\n",
    "\n",
    "#tfidf = vectorizer.fit_transform(book_titles[\"modified_title\"])\n",
    "#from sklearn.metrics.pairwise import cosine_similarity\n",
    "\n",
    "import numpy as np\n",
    "import re\n",
    "from sklearn.feature_extraction.text import TfidfVectorizer\n",
    "from sklearn.metrics.pairwise import cosine_similarity\n",
    "vectorizer = TfidfVectorizer()\n",
    "tfidf = vectorizer.fit_transform(book_titles[\"modified_title\"])\n",
    "\n",
    "# show cover image in search\n",
    "def cover(val):\n",
    "    return '<img src=\"{}\" width=60></image>'.format(val)\n",
    "\n",
    "# search for a specific book (by title)\n",
    "def search(query, vectorizer):\n",
    "    processed = re.sub(\"[^a-zA-Z0-9 ]\", \"\", query.lower())\n",
    "    query_vec = vectorizer.transform([processed])\n",
    "    similarity = cosine_similarity(query_vec, tfidf).flatten()\n",
    "    indices = np.argpartition(similarity, -10)[-10:] #find indices of 10 largest similarity values\n",
    "    results = book_titles.iloc[indices]\n",
    "    results = results.sort_values(\"ratings\", ascending=False)\n",
    "    return results.head(5).style.format({'cover':cover})"
   ]
  },
  {
   "cell_type": "code",
   "execution_count": 13,
   "id": "5d353a93-ff3e-4e19-a56c-7a12d9321738",
   "metadata": {},
   "outputs": [],
   "source": [
    "#liked_books = []\n",
    "\n",
    "# All this search engine does right now is go through the dataset and show the closest matches. It doesn't save it to a 'liked books' file or anything.\n",
    "def user_search():\n",
    "    book = input(\"Please enter a book to search. Enter 'exit' when finished.\")\n",
    "    if book == 'exit':\n",
    "        return False\n",
    "    display(search(book, vectorizer))\n",
    "    return True\n",
    "\n",
    "def search_loop():\n",
    "    userin = input(\"Would you like to search for a book? Enter Y/N.\")\n",
    "    if userin != 'N' and userin != 'Y':\n",
    "        print(\"Please enter Y or N.\")\n",
    "    while True:\n",
    "        if userin == 'N':\n",
    "            print(\"Goodbye!\")\n",
    "            break\n",
    "        if not user_search():\n",
    "            break\n",
    "        userin = input(\"Would you like to search for another book? Enter Y/N.\")\n",
    "    "
   ]
  },
  {
   "cell_type": "code",
   "execution_count": 14,
   "id": "ba5bd772-341f-4bba-954f-e2db53b92d02",
   "metadata": {},
   "outputs": [
    {
     "name": "stdin",
     "output_type": "stream",
     "text": [
      "Would you like to search for a book? Enter Y/N. Y\n",
      "Please enter a book to search. Enter 'exit' when finished. Crooked Kingdom\n"
     ]
    },
    {
     "data": {
      "text/html": [
       "<style type=\"text/css\">\n",
       "</style>\n",
       "<table id=\"T_c9b68_\">\n",
       "  <thead>\n",
       "    <tr>\n",
       "      <th class=\"blank level0\" >&nbsp;</th>\n",
       "      <th class=\"col_heading level0 col0\" >book_id</th>\n",
       "      <th class=\"col_heading level0 col1\" >title</th>\n",
       "      <th class=\"col_heading level0 col2\" >ratings</th>\n",
       "      <th class=\"col_heading level0 col3\" >url</th>\n",
       "      <th class=\"col_heading level0 col4\" >cover</th>\n",
       "      <th class=\"col_heading level0 col5\" >modified_title</th>\n",
       "    </tr>\n",
       "  </thead>\n",
       "  <tbody>\n",
       "    <tr>\n",
       "      <th id=\"T_c9b68_level0_row0\" class=\"row_heading level0 row0\" >285192</th>\n",
       "      <td id=\"T_c9b68_row0_col0\" class=\"data row0 col0\" >27840861</td>\n",
       "      <td id=\"T_c9b68_row0_col1\" class=\"data row0 col1\" >Crooked Kingdom (Six of Crows, #2)</td>\n",
       "      <td id=\"T_c9b68_row0_col2\" class=\"data row0 col2\" >6254</td>\n",
       "      <td id=\"T_c9b68_row0_col3\" class=\"data row0 col3\" >https://www.goodreads.com/book/show/27840861-crooked-kingdom</td>\n",
       "      <td id=\"T_c9b68_row0_col4\" class=\"data row0 col4\" ><img src=\"https://images.gr-assets.com/books/1456172649m/27840861.jpg\" width=60></image></td>\n",
       "      <td id=\"T_c9b68_row0_col5\" class=\"data row0 col5\" >crooked kingdom six of crows 2</td>\n",
       "    </tr>\n",
       "    <tr>\n",
       "      <th id=\"T_c9b68_level0_row1\" class=\"row_heading level0 row1\" >952851</th>\n",
       "      <td id=\"T_c9b68_row1_col0\" class=\"data row1 col0\" >28937572</td>\n",
       "      <td id=\"T_c9b68_row1_col1\" class=\"data row1 col1\" >Crooked Kingdom (Six of Crows, #2)</td>\n",
       "      <td id=\"T_c9b68_row1_col2\" class=\"data row1 col2\" >2749</td>\n",
       "      <td id=\"T_c9b68_row1_col3\" class=\"data row1 col3\" >https://www.goodreads.com/book/show/28937572-crooked-kingdom</td>\n",
       "      <td id=\"T_c9b68_row1_col4\" class=\"data row1 col4\" ><img src=\"https://images.gr-assets.com/books/1466791456m/28937572.jpg\" width=60></image></td>\n",
       "      <td id=\"T_c9b68_row1_col5\" class=\"data row1 col5\" >crooked kingdom six of crows 2</td>\n",
       "    </tr>\n",
       "    <tr>\n",
       "      <th id=\"T_c9b68_level0_row2\" class=\"row_heading level0 row2\" >909546</th>\n",
       "      <td id=\"T_c9b68_row2_col0\" class=\"data row2 col0\" >451301</td>\n",
       "      <td id=\"T_c9b68_row2_col1\" class=\"data row2 col1\" >Crooked</td>\n",
       "      <td id=\"T_c9b68_row2_col2\" class=\"data row2 col2\" >1239</td>\n",
       "      <td id=\"T_c9b68_row2_col3\" class=\"data row2 col3\" >https://www.goodreads.com/book/show/451301.Crooked</td>\n",
       "      <td id=\"T_c9b68_row2_col4\" class=\"data row2 col4\" ><img src=\"https://images.gr-assets.com/books/1320492443m/451301.jpg\" width=60></image></td>\n",
       "      <td id=\"T_c9b68_row2_col5\" class=\"data row2 col5\" >crooked</td>\n",
       "    </tr>\n",
       "    <tr>\n",
       "      <th id=\"T_c9b68_level0_row3\" class=\"row_heading level0 row3\" >296035</th>\n",
       "      <td id=\"T_c9b68_row3_col0\" class=\"data row3 col0\" >23507476</td>\n",
       "      <td id=\"T_c9b68_row3_col1\" class=\"data row3 col1\" >Crooked</td>\n",
       "      <td id=\"T_c9b68_row3_col2\" class=\"data row3 col2\" >942</td>\n",
       "      <td id=\"T_c9b68_row3_col3\" class=\"data row3 col3\" >https://www.goodreads.com/book/show/23507476-crooked</td>\n",
       "      <td id=\"T_c9b68_row3_col4\" class=\"data row3 col4\" ><img src=\"https://images.gr-assets.com/books/1416155731m/23507476.jpg\" width=60></image></td>\n",
       "      <td id=\"T_c9b68_row3_col5\" class=\"data row3 col5\" >crooked</td>\n",
       "    </tr>\n",
       "    <tr>\n",
       "      <th id=\"T_c9b68_level0_row4\" class=\"row_heading level0 row4\" >1015810</th>\n",
       "      <td id=\"T_c9b68_row4_col0\" class=\"data row4 col0\" >683664</td>\n",
       "      <td id=\"T_c9b68_row4_col1\" class=\"data row4 col1\" >Crooked</td>\n",
       "      <td id=\"T_c9b68_row4_col2\" class=\"data row4 col2\" >231</td>\n",
       "      <td id=\"T_c9b68_row4_col3\" class=\"data row4 col3\" >https://www.goodreads.com/book/show/683664.Crooked</td>\n",
       "      <td id=\"T_c9b68_row4_col4\" class=\"data row4 col4\" ><img src=\"https://s.gr-assets.com/assets/nophoto/book/111x148-bcc042a9c91a29c1d680899eff700a03.png\" width=60></image></td>\n",
       "      <td id=\"T_c9b68_row4_col5\" class=\"data row4 col5\" >crooked</td>\n",
       "    </tr>\n",
       "  </tbody>\n",
       "</table>\n"
      ],
      "text/plain": [
       "<pandas.io.formats.style.Styler at 0x1e940644190>"
      ]
     },
     "metadata": {},
     "output_type": "display_data"
    },
    {
     "name": "stdin",
     "output_type": "stream",
     "text": [
      "Would you like to search for another book? Enter Y/N. Y\n",
      "Please enter a book to search. Enter 'exit' when finished. Harry Potter and the Goblet of Fire\n"
     ]
    },
    {
     "data": {
      "text/html": [
       "<style type=\"text/css\">\n",
       "</style>\n",
       "<table id=\"T_2d2f1_\">\n",
       "  <thead>\n",
       "    <tr>\n",
       "      <th class=\"blank level0\" >&nbsp;</th>\n",
       "      <th class=\"col_heading level0 col0\" >book_id</th>\n",
       "      <th class=\"col_heading level0 col1\" >title</th>\n",
       "      <th class=\"col_heading level0 col2\" >ratings</th>\n",
       "      <th class=\"col_heading level0 col3\" >url</th>\n",
       "      <th class=\"col_heading level0 col4\" >cover</th>\n",
       "      <th class=\"col_heading level0 col5\" >modified_title</th>\n",
       "    </tr>\n",
       "  </thead>\n",
       "  <tbody>\n",
       "    <tr>\n",
       "      <th id=\"T_2d2f1_level0_row0\" class=\"row_heading level0 row0\" >277706</th>\n",
       "      <td id=\"T_2d2f1_row0_col0\" class=\"data row0 col0\" >28754622</td>\n",
       "      <td id=\"T_2d2f1_row0_col1\" class=\"data row0 col1\" >Harry Potter and the Goblet of Fire</td>\n",
       "      <td id=\"T_2d2f1_row0_col2\" class=\"data row0 col2\" >3314</td>\n",
       "      <td id=\"T_2d2f1_row0_col3\" class=\"data row0 col3\" >https://www.goodreads.com/book/show/28754622-harry-potter-and-the-goblet-of-fire</td>\n",
       "      <td id=\"T_2d2f1_row0_col4\" class=\"data row0 col4\" ><img src=\"https://s.gr-assets.com/assets/nophoto/book/111x148-bcc042a9c91a29c1d680899eff700a03.png\" width=60></image></td>\n",
       "      <td id=\"T_2d2f1_row0_col5\" class=\"data row0 col5\" >harry potter and the goblet of fire</td>\n",
       "    </tr>\n",
       "    <tr>\n",
       "      <th id=\"T_2d2f1_level0_row1\" class=\"row_heading level0 row1\" >1067811</th>\n",
       "      <td id=\"T_2d2f1_row1_col0\" class=\"data row1 col0\" >818068</td>\n",
       "      <td id=\"T_2d2f1_row1_col1\" class=\"data row1 col1\" >Harry Potter and the Goblet of Fire (Harry Potter, #4)</td>\n",
       "      <td id=\"T_2d2f1_row1_col2\" class=\"data row1 col2\" >1389</td>\n",
       "      <td id=\"T_2d2f1_row1_col3\" class=\"data row1 col3\" >https://www.goodreads.com/book/show/818068.Harry_Potter_and_the_Goblet_of_Fire</td>\n",
       "      <td id=\"T_2d2f1_row1_col4\" class=\"data row1 col4\" ><img src=\"https://images.gr-assets.com/books/1327370581m/818068.jpg\" width=60></image></td>\n",
       "      <td id=\"T_2d2f1_row1_col5\" class=\"data row1 col5\" >harry potter and the goblet of fire harry potter 4</td>\n",
       "    </tr>\n",
       "    <tr>\n",
       "      <th id=\"T_2d2f1_level0_row2\" class=\"row_heading level0 row2\" >899201</th>\n",
       "      <td id=\"T_2d2f1_row2_col0\" class=\"data row2 col0\" >7292005</td>\n",
       "      <td id=\"T_2d2f1_row2_col1\" class=\"data row2 col1\" >Harry Potter and the Goblet of Fire</td>\n",
       "      <td id=\"T_2d2f1_row2_col2\" class=\"data row2 col2\" >202</td>\n",
       "      <td id=\"T_2d2f1_row2_col3\" class=\"data row2 col3\" >https://www.goodreads.com/book/show/7292005-harry-potter-and-the-goblet-of-fire</td>\n",
       "      <td id=\"T_2d2f1_row2_col4\" class=\"data row2 col4\" ><img src=\"https://s.gr-assets.com/assets/nophoto/book/111x148-bcc042a9c91a29c1d680899eff700a03.png\" width=60></image></td>\n",
       "      <td id=\"T_2d2f1_row2_col5\" class=\"data row2 col5\" >harry potter and the goblet of fire</td>\n",
       "    </tr>\n",
       "    <tr>\n",
       "      <th id=\"T_2d2f1_level0_row3\" class=\"row_heading level0 row3\" >884637</th>\n",
       "      <td id=\"T_2d2f1_row3_col0\" class=\"data row3 col0\" >17861465</td>\n",
       "      <td id=\"T_2d2f1_row3_col1\" class=\"data row3 col1\" >Harry Potter and the Goblet of Fire</td>\n",
       "      <td id=\"T_2d2f1_row3_col2\" class=\"data row3 col2\" >174</td>\n",
       "      <td id=\"T_2d2f1_row3_col3\" class=\"data row3 col3\" >https://www.goodreads.com/book/show/17861465-harry-potter-and-the-goblet-of-fire</td>\n",
       "      <td id=\"T_2d2f1_row3_col4\" class=\"data row3 col4\" ><img src=\"https://images.gr-assets.com/books/1379716227m/17861465.jpg\" width=60></image></td>\n",
       "      <td id=\"T_2d2f1_row3_col5\" class=\"data row3 col5\" >harry potter and the goblet of fire</td>\n",
       "    </tr>\n",
       "    <tr>\n",
       "      <th id=\"T_2d2f1_level0_row4\" class=\"row_heading level0 row4\" >749008</th>\n",
       "      <td id=\"T_2d2f1_row4_col0\" class=\"data row4 col0\" >1071182</td>\n",
       "      <td id=\"T_2d2f1_row4_col1\" class=\"data row4 col1\" >Harry Potter and the Goblet of Fire</td>\n",
       "      <td id=\"T_2d2f1_row4_col2\" class=\"data row4 col2\" >168</td>\n",
       "      <td id=\"T_2d2f1_row4_col3\" class=\"data row4 col3\" >https://www.goodreads.com/book/show/1071182.Harry_Potter_and_the_Goblet_of_Fire</td>\n",
       "      <td id=\"T_2d2f1_row4_col4\" class=\"data row4 col4\" ><img src=\"https://images.gr-assets.com/books/1361378666m/1071182.jpg\" width=60></image></td>\n",
       "      <td id=\"T_2d2f1_row4_col5\" class=\"data row4 col5\" >harry potter and the goblet of fire</td>\n",
       "    </tr>\n",
       "  </tbody>\n",
       "</table>\n"
      ],
      "text/plain": [
       "<pandas.io.formats.style.Styler at 0x1e93ea1d790>"
      ]
     },
     "metadata": {},
     "output_type": "display_data"
    },
    {
     "name": "stdin",
     "output_type": "stream",
     "text": [
      "Would you like to search for another book? Enter Y/N. N\n"
     ]
    },
    {
     "name": "stdout",
     "output_type": "stream",
     "text": [
      "Goodbye!\n"
     ]
    }
   ],
   "source": [
    "search_loop()"
   ]
  },
  {
   "cell_type": "code",
   "execution_count": null,
   "id": "fe17cb4b-fd9f-4ca1-8e0d-6c38ea8772b8",
   "metadata": {},
   "outputs": [],
   "source": []
  }
 ],
 "metadata": {
  "kernelspec": {
   "display_name": "Python 3 (ipykernel)",
   "language": "python",
   "name": "python3"
  },
  "language_info": {
   "codemirror_mode": {
    "name": "ipython",
    "version": 3
   },
   "file_extension": ".py",
   "mimetype": "text/x-python",
   "name": "python",
   "nbconvert_exporter": "python",
   "pygments_lexer": "ipython3",
   "version": "3.9.7"
  }
 },
 "nbformat": 4,
 "nbformat_minor": 5
}
