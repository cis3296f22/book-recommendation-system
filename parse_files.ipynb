{
 "cells": [
  {
   "cell_type": "code",
   "execution_count": 1,
   "id": "f5cc0c34-099b-4bf0-af5f-e134443e97f9",
   "metadata": {},
   "outputs": [],
   "source": [
    "import gzip\n",
    "import pandas as pd\n",
    "with gzip.open(\"goodreads_books.json.gz\", 'r') as f:\n",
    "    line = f.readline()"
   ]
  },
  {
   "cell_type": "code",
   "execution_count": 2,
   "id": "081fd34a-e434-4cf6-a718-095ec225159c",
   "metadata": {},
   "outputs": [
    {
     "data": {
      "text/plain": [
       "{'isbn': '0312853122',\n",
       " 'text_reviews_count': '1',\n",
       " 'series': [],\n",
       " 'country_code': 'US',\n",
       " 'language_code': '',\n",
       " 'popular_shelves': [{'count': '3', 'name': 'to-read'},\n",
       "  {'count': '1', 'name': 'p'},\n",
       "  {'count': '1', 'name': 'collection'},\n",
       "  {'count': '1', 'name': 'w-c-fields'},\n",
       "  {'count': '1', 'name': 'biography'}],\n",
       " 'asin': '',\n",
       " 'is_ebook': 'false',\n",
       " 'average_rating': '4.00',\n",
       " 'kindle_asin': '',\n",
       " 'similar_books': [],\n",
       " 'description': '',\n",
       " 'format': 'Paperback',\n",
       " 'link': 'https://www.goodreads.com/book/show/5333265-w-c-fields',\n",
       " 'authors': [{'author_id': '604031', 'role': ''}],\n",
       " 'publisher': \"St. Martin's Press\",\n",
       " 'num_pages': '256',\n",
       " 'publication_day': '1',\n",
       " 'isbn13': '9780312853129',\n",
       " 'publication_month': '9',\n",
       " 'edition_information': '',\n",
       " 'publication_year': '1984',\n",
       " 'url': 'https://www.goodreads.com/book/show/5333265-w-c-fields',\n",
       " 'image_url': 'https://images.gr-assets.com/books/1310220028m/5333265.jpg',\n",
       " 'book_id': '5333265',\n",
       " 'ratings_count': '3',\n",
       " 'work_id': '5400751',\n",
       " 'title': 'W.C. Fields: A Life on Film',\n",
       " 'title_without_series': 'W.C. Fields: A Life on Film'}"
      ]
     },
     "execution_count": 2,
     "metadata": {},
     "output_type": "execute_result"
    }
   ],
   "source": [
    "import json\n",
    "json.loads(line)"
   ]
  },
  {
   "cell_type": "code",
   "execution_count": null,
   "id": "c6790e37-1631-45d1-a98f-be97a96dedbc",
   "metadata": {},
   "outputs": [],
   "source": [
    "with gzip.open(\"goodreads_books_authors.json.gz\", 'r') as f:\n",
    "    line = f.readline()"
   ]
  },
  {
   "cell_type": "code",
   "execution_count": 9,
   "id": "1a87a31d-e02c-41ef-a8d6-2cd3636a5823",
   "metadata": {},
   "outputs": [],
   "source": [
    "def parse_books(line):\n",
    "    book = json.loads(line)\n",
    "    return {\n",
    "        \"book_id\": book[\"book_id\"],\n",
    "        \"title\": book[\"title_without_series\"],\n",
    "        \"ratings\": book[\"ratings_count\"],\n",
    "        \"url\": book[\"url\"],\n",
    "        \"cover\": book[\"image_url\"],\n",
    "    }"
   ]
  },
  {
   "cell_type": "code",
   "execution_count": 10,
   "id": "8a840c19-546c-49cd-8791-07b633d79f6a",
   "metadata": {},
   "outputs": [],
   "source": [
    "# Narrow down search by only including books for which there are at least 20 ratings. (Books with less than 20 ratings are obviously not very popular and thus are not necessary inclusions in our search engine).\n",
    "# Append all of the books that match these requirements into a list called title.\n",
    "titles = []\n",
    "with gzip.open(\"goodreads_books.json.gz\", 'r') as f:\n",
    "    while True:\n",
    "        line = f.readline()\n",
    "        if not line:\n",
    "            break\n",
    "        fields = parse_books(line)\n",
    "        try:\n",
    "            ratings = int(fields[\"ratings\"])\n",
    "        except ValueError:\n",
    "            continue\n",
    "        if ratings > 100:\n",
    "            titles.append(fields)"
   ]
  },
  {
   "cell_type": "code",
   "execution_count": 12,
   "id": "ed342649-a036-43dd-8682-698f0daadb65",
   "metadata": {
    "tags": []
   },
   "outputs": [],
   "source": [
    "import pandas as pd\n",
    "import csv\n",
    "with open('book_fields.csv', 'w', encoding='utf-8') as csvfile:\n",
    "    writer = csv.DictWriter(csvfile, fieldnames=[\"book_id\", \"title\", \"ratings\", \"url\", \"cover\"])\n",
    "    writer.writeheader()\n",
    "    writer.writerows(titles)"
   ]
  },
  {
   "cell_type": "code",
   "execution_count": 10,
   "id": "f12af047-69fd-4181-b37b-777ddc623ff6",
   "metadata": {},
   "outputs": [],
   "source": [
    "book_titles = pd.read_csv('book_fields.csv')"
   ]
  },
  {
   "cell_type": "code",
   "execution_count": 13,
   "id": "51cf3d30-40cf-45f7-b2e8-22fe1399e0a3",
   "metadata": {},
   "outputs": [],
   "source": [
    "all_interactions = []\n",
    "count = 0\n",
    "all_interactions.append(['user_id', 'book_id', 'is_read', 'rating', 'is_reviewed'])\n",
    "with open(\"goodreads_interactions.csv\", \"r\") as f:\n",
    "        while True:\n",
    "            if count > 5000000:\n",
    "                break\n",
    "            line = f.readline()\n",
    "            if not line:\n",
    "                break\n",
    "            user_id, csv_id, _, rating, _ = line.split(\",\")\n",
    "            \n",
    "            try:\n",
    "                rating = int(rating)\n",
    "            except ValueError:\n",
    "                continue\n",
    "            if count < 5000000:\n",
    "                all_interactions.append(line.strip().split(\",\"))\n",
    "            count+=1"
   ]
  },
  {
   "cell_type": "code",
   "execution_count": 14,
   "id": "6944a906-b7ed-45ef-9443-e70adc3b6e6b",
   "metadata": {},
   "outputs": [],
   "source": [
    "import csv\n",
    "with open('all_interactions.csv', 'w', encoding='utf-8', newline='') as csvfile:\n",
    "        writer = csv.writer(csvfile, quoting=csv.QUOTE_NONE)\n",
    "        #writer.writeheader()\n",
    "        writer.writerows(all_interactions)"
   ]
  },
  {
   "cell_type": "code",
   "execution_count": null,
   "id": "81614854-77a6-4d7d-9abb-25c33522c312",
   "metadata": {},
   "outputs": [],
   "source": []
  }
 ],
 "metadata": {
  "kernelspec": {
   "display_name": "Python 3 (ipykernel)",
   "language": "python",
   "name": "python3"
  },
  "language_info": {
   "codemirror_mode": {
    "name": "ipython",
    "version": 3
   },
   "file_extension": ".py",
   "mimetype": "text/x-python",
   "name": "python",
   "nbconvert_exporter": "python",
   "pygments_lexer": "ipython3",
   "version": "3.9.7"
  }
 },
 "nbformat": 4,
 "nbformat_minor": 5
}
